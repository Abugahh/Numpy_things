{
 "cells": [
  {
   "cell_type": "code",
   "execution_count": 1,
   "id": "61c66a84",
   "metadata": {},
   "outputs": [
    {
     "name": "stdout",
     "output_type": "stream",
     "text": [
      "Defaulting to user installation because normal site-packages is not writeable\n",
      "Requirement already satisfied: numpy in /home/Moraa/.local/lib/python3.9/site-packages (1.24.2)\n"
     ]
    }
   ],
   "source": [
    "!pip install numpy"
   ]
  },
  {
   "cell_type": "code",
   "execution_count": 1,
   "id": "5526c687",
   "metadata": {},
   "outputs": [],
   "source": [
    "import numpy"
   ]
  },
  {
   "cell_type": "markdown",
   "id": "9beb250b",
   "metadata": {},
   "source": [
    "## alias naming so numpy will be np going foward"
   ]
  },
  {
   "cell_type": "code",
   "execution_count": 2,
   "id": "ee2344cc",
   "metadata": {},
   "outputs": [],
   "source": [
    "import numpy as np"
   ]
  },
  {
   "cell_type": "markdown",
   "id": "0bcafe32",
   "metadata": {},
   "source": []
  },
  {
   "cell_type": "markdown",
   "id": "e04bac67",
   "metadata": {},
   "source": [
    "##syntax"
   ]
  },
  {
   "cell_type": "code",
   "execution_count": 5,
   "id": "003aa6ee",
   "metadata": {},
   "outputs": [],
   "source": [
    "test1=np.array([4,5,6,7])"
   ]
  },
  {
   "cell_type": "code",
   "execution_count": 6,
   "id": "d8739ec1",
   "metadata": {},
   "outputs": [
    {
     "data": {
      "text/plain": [
       "numpy.ndarray"
      ]
     },
     "execution_count": 6,
     "metadata": {},
     "output_type": "execute_result"
    }
   ],
   "source": [
    "type(test1)"
   ]
  },
  {
   "cell_type": "markdown",
   "id": "edab90e3",
   "metadata": {},
   "source": [
    "## array and test are methods hence () a list is enclosed [] so pasing the list to an array nd dimentional of the array"
   ]
  },
  {
   "cell_type": "code",
   "execution_count": 7,
   "id": "65fff619",
   "metadata": {},
   "outputs": [
    {
     "data": {
      "text/plain": [
       "1"
      ]
     },
     "execution_count": 7,
     "metadata": {},
     "output_type": "execute_result"
    }
   ],
   "source": [
    "## to confirm the number of dimetions\n",
    "test1.ndim"
   ]
  },
  {
   "cell_type": "code",
   "execution_count": 8,
   "id": "f55a8990",
   "metadata": {},
   "outputs": [
    {
     "data": {
      "text/plain": [
       "(4,)"
      ]
     },
     "execution_count": 8,
     "metadata": {},
     "output_type": "execute_result"
    }
   ],
   "source": [
    "##to know number of rows and colums of the data\n",
    "test1.shape"
   ]
  },
  {
   "cell_type": "code",
   "execution_count": 9,
   "id": "cad5ba77",
   "metadata": {},
   "outputs": [
    {
     "data": {
      "text/plain": [
       "4"
      ]
     },
     "execution_count": 9,
     "metadata": {},
     "output_type": "execute_result"
    }
   ],
   "source": [
    "##size of your data\n",
    "test1.size"
   ]
  },
  {
   "cell_type": "markdown",
   "id": "83260b1a",
   "metadata": {},
   "source": []
  },
  {
   "cell_type": "markdown",
   "id": "e18510c0",
   "metadata": {},
   "source": [
    "##2d array"
   ]
  },
  {
   "cell_type": "code",
   "execution_count": 10,
   "id": "fcf47042",
   "metadata": {},
   "outputs": [
    {
     "data": {
      "text/plain": [
       "array([[ 1,  2,  3,  4],\n",
       "       [15,  6,  7,  8],\n",
       "       [ 4,  5,  6,  2]])"
      ]
     },
     "execution_count": 10,
     "metadata": {},
     "output_type": "execute_result"
    }
   ],
   "source": [
    "##a 2d cause it has rows and columns\n",
    "np.array([[1,2,3,4],[15,6,7,8],[4,5,6,2]])"
   ]
  },
  {
   "cell_type": "code",
   "execution_count": 11,
   "id": "49793d8b",
   "metadata": {},
   "outputs": [],
   "source": [
    "##giving a variable\n",
    "array2d=np.array([[1,2,3,4],[15,6,7,8],[4,5,6,2]])"
   ]
  },
  {
   "cell_type": "code",
   "execution_count": 12,
   "id": "62856a9c",
   "metadata": {},
   "outputs": [
    {
     "data": {
      "text/plain": [
       "12"
      ]
     },
     "execution_count": 12,
     "metadata": {},
     "output_type": "execute_result"
    }
   ],
   "source": [
    "array2d.size"
   ]
  },
  {
   "cell_type": "code",
   "execution_count": 13,
   "id": "b694aaf4",
   "metadata": {},
   "outputs": [
    {
     "data": {
      "text/plain": [
       "(3, 4)"
      ]
     },
     "execution_count": 13,
     "metadata": {},
     "output_type": "execute_result"
    }
   ],
   "source": [
    "array2d.shape"
   ]
  },
  {
   "cell_type": "code",
   "execution_count": 14,
   "id": "562d3459",
   "metadata": {},
   "outputs": [
    {
     "data": {
      "text/plain": [
       "2"
      ]
     },
     "execution_count": 14,
     "metadata": {},
     "output_type": "execute_result"
    }
   ],
   "source": [
    "array2d.ndim"
   ]
  },
  {
   "cell_type": "markdown",
   "id": "4afa6f94",
   "metadata": {},
   "source": [
    "##Acessing arrays"
   ]
  },
  {
   "cell_type": "code",
   "execution_count": 5,
   "id": "f45a5a74",
   "metadata": {},
   "outputs": [],
   "source": [
    "test=np.array([1,2,3,4,5,6,7,8,9,10])"
   ]
  },
  {
   "cell_type": "code",
   "execution_count": 8,
   "id": "62bbdead",
   "metadata": {},
   "outputs": [
    {
     "data": {
      "text/plain": [
       "1"
      ]
     },
     "execution_count": 8,
     "metadata": {},
     "output_type": "execute_result"
    }
   ],
   "source": [
    "#retrive element 1\n",
    "test[0]"
   ]
  },
  {
   "cell_type": "code",
   "execution_count": 9,
   "id": "76721c89",
   "metadata": {},
   "outputs": [
    {
     "data": {
      "text/plain": [
       "10"
      ]
     },
     "execution_count": 9,
     "metadata": {},
     "output_type": "execute_result"
    }
   ],
   "source": [
    "test[9]"
   ]
  },
  {
   "cell_type": "code",
   "execution_count": 10,
   "id": "ca062c5f",
   "metadata": {},
   "outputs": [
    {
     "data": {
      "text/plain": [
       "1"
      ]
     },
     "execution_count": 10,
     "metadata": {},
     "output_type": "execute_result"
    }
   ],
   "source": [
    "test[-10]\n",
    "#1 is equal to 0 and in reverse is -10 using a negative index"
   ]
  },
  {
   "cell_type": "markdown",
   "id": "8f98e713",
   "metadata": {},
   "source": [
    "##accessing 2d arrays"
   ]
  },
  {
   "cell_type": "code",
   "execution_count": 11,
   "id": "80786bd7",
   "metadata": {},
   "outputs": [],
   "source": [
    "array2d=np.array([[1,2,3,4],[5,6,7,8]])"
   ]
  },
  {
   "cell_type": "code",
   "execution_count": 12,
   "id": "efee551a",
   "metadata": {},
   "outputs": [
    {
     "data": {
      "text/plain": [
       "array([[1, 2, 3, 4],\n",
       "       [5, 6, 7, 8]])"
      ]
     },
     "execution_count": 12,
     "metadata": {},
     "output_type": "execute_result"
    }
   ],
   "source": [
    "array2d"
   ]
  },
  {
   "cell_type": "code",
   "execution_count": 13,
   "id": "83ea65a1",
   "metadata": {},
   "outputs": [
    {
     "data": {
      "text/plain": [
       "8"
      ]
     },
     "execution_count": 13,
     "metadata": {},
     "output_type": "execute_result"
    }
   ],
   "source": [
    "array2d.size\n",
    "#no of elements in the array"
   ]
  },
  {
   "cell_type": "code",
   "execution_count": 14,
   "id": "b89e8129",
   "metadata": {},
   "outputs": [
    {
     "data": {
      "text/plain": [
       "1"
      ]
     },
     "execution_count": 14,
     "metadata": {},
     "output_type": "execute_result"
    }
   ],
   "source": [
    "#[rows,clomuns] firstrow across is 0\n",
    "array2d[0,0]"
   ]
  },
  {
   "cell_type": "code",
   "execution_count": 15,
   "id": "da6c1e6e",
   "metadata": {},
   "outputs": [
    {
     "data": {
      "text/plain": [
       "2"
      ]
     },
     "execution_count": 15,
     "metadata": {},
     "output_type": "execute_result"
    }
   ],
   "source": [
    "array2d[0,1]"
   ]
  },
  {
   "cell_type": "markdown",
   "id": "c7cfef3f",
   "metadata": {},
   "source": [
    "##slicing an array"
   ]
  },
  {
   "cell_type": "code",
   "execution_count": 4,
   "id": "c8896df3",
   "metadata": {},
   "outputs": [],
   "source": [
    "oned = np.array([10,20,30,34,40,40,70,40,60,80])"
   ]
  },
  {
   "cell_type": "code",
   "execution_count": 5,
   "id": "c15dad24",
   "metadata": {},
   "outputs": [
    {
     "data": {
      "text/plain": [
       "array([10, 20, 30, 34, 40, 40, 70, 40, 60, 80])"
      ]
     },
     "execution_count": 5,
     "metadata": {},
     "output_type": "execute_result"
    }
   ],
   "source": [
    "oned"
   ]
  },
  {
   "cell_type": "code",
   "execution_count": 20,
   "id": "8bcd9bd0",
   "metadata": {},
   "outputs": [
    {
     "data": {
      "text/plain": [
       "array([10, 20, 30])"
      ]
     },
     "execution_count": 20,
     "metadata": {},
     "output_type": "execute_result"
    }
   ],
   "source": [
    "oned[0:3] ## will stop at34 which is 3 and everything before that"
   ]
  },
  {
   "cell_type": "code",
   "execution_count": 21,
   "id": "71719461",
   "metadata": {},
   "outputs": [
    {
     "data": {
      "text/plain": [
       "array([40, 70, 40, 60, 80])"
      ]
     },
     "execution_count": 21,
     "metadata": {},
     "output_type": "execute_result"
    }
   ],
   "source": [
    "oned[5:] ## last five"
   ]
  },
  {
   "cell_type": "code",
   "execution_count": 23,
   "id": "3a9ab25e",
   "metadata": {},
   "outputs": [
    {
     "data": {
      "text/plain": [
       "array([40, 70, 40, 60])"
      ]
     },
     "execution_count": 23,
     "metadata": {},
     "output_type": "execute_result"
    }
   ],
   "source": [
    "oned[-5:-1]"
   ]
  },
  {
   "cell_type": "code",
   "execution_count": 24,
   "id": "b1d61152",
   "metadata": {},
   "outputs": [
    {
     "data": {
      "text/plain": [
       "array([10, 20, 30, 34, 40])"
      ]
     },
     "execution_count": 24,
     "metadata": {},
     "output_type": "execute_result"
    }
   ],
   "source": [
    "oned[:5] ## first five"
   ]
  },
  {
   "cell_type": "code",
   "execution_count": 25,
   "id": "181e9b92",
   "metadata": {},
   "outputs": [
    {
     "data": {
      "text/plain": [
       "array([10, 20, 30, 34, 40, 40, 70, 40, 60, 80])"
      ]
     },
     "execution_count": 25,
     "metadata": {},
     "output_type": "execute_result"
    }
   ],
   "source": [
    "oned[:]"
   ]
  },
  {
   "cell_type": "code",
   "execution_count": 6,
   "id": "eb6a84cb",
   "metadata": {},
   "outputs": [
    {
     "data": {
      "text/plain": [
       "10"
      ]
     },
     "execution_count": 6,
     "metadata": {},
     "output_type": "execute_result"
    }
   ],
   "source": [
    "oned[-10]"
   ]
  },
  {
   "cell_type": "code",
   "execution_count": 7,
   "id": "6ce4e1be",
   "metadata": {},
   "outputs": [
    {
     "data": {
      "text/plain": [
       "array([30, 34, 40, 40, 70, 40, 60, 80])"
      ]
     },
     "execution_count": 7,
     "metadata": {},
     "output_type": "execute_result"
    }
   ],
   "source": [
    "oned[2:]"
   ]
  },
  {
   "cell_type": "markdown",
   "id": "9cd7048f",
   "metadata": {},
   "source": [
    "##2D SLICING"
   ]
  },
  {
   "cell_type": "code",
   "execution_count": 11,
   "id": "dc5978a0",
   "metadata": {},
   "outputs": [
    {
     "data": {
      "text/plain": [
       "array([[1, 2, 3, 4],\n",
       "       [6, 7, 8, 9]])"
      ]
     },
     "execution_count": 11,
     "metadata": {},
     "output_type": "execute_result"
    }
   ],
   "source": [
    "twod = np.array([[1,2,3,4],[6,7,8,9]])\n",
    "twod"
   ]
  },
  {
   "cell_type": "code",
   "execution_count": 16,
   "id": "660b08e9",
   "metadata": {},
   "outputs": [
    {
     "data": {
      "text/plain": [
       "array([6, 7, 8])"
      ]
     },
     "execution_count": 16,
     "metadata": {},
     "output_type": "execute_result"
    }
   ],
   "source": [
    "##row column\n",
    "## one can slice only the rows aor the columns\n",
    "twod[1, 0:3]"
   ]
  },
  {
   "cell_type": "code",
   "execution_count": 18,
   "id": "3a92fcab",
   "metadata": {},
   "outputs": [
    {
     "data": {
      "text/plain": [
       "array([2, 7])"
      ]
     },
     "execution_count": 18,
     "metadata": {},
     "output_type": "execute_result"
    }
   ],
   "source": [
    "## retrive element 2 and 7 \n",
    "twod[0:2,1]  ## 0:2 all rows accross and one since its in the one column"
   ]
  },
  {
   "cell_type": "code",
   "execution_count": 20,
   "id": "882439ce",
   "metadata": {},
   "outputs": [
    {
     "data": {
      "text/plain": [
       "array([1, 2, 3, 4])"
      ]
     },
     "execution_count": 20,
     "metadata": {},
     "output_type": "execute_result"
    }
   ],
   "source": [
    "##all elemennts in the first row\n",
    "twod[0,0:4]       ##0 is the row accross and 0:4 each and every column  get what they are sharing and slice"
   ]
  },
  {
   "cell_type": "markdown",
   "id": "9fa55fb2",
   "metadata": {},
   "source": [
    "## Random number generation"
   ]
  },
  {
   "cell_type": "markdown",
   "id": "687da516",
   "metadata": {},
   "source": [
    "##Random number generator"
   ]
  },
  {
   "cell_type": "code",
   "execution_count": 4,
   "id": "570c5116",
   "metadata": {},
   "outputs": [
    {
     "data": {
      "text/plain": [
       "5"
      ]
     },
     "execution_count": 4,
     "metadata": {},
     "output_type": "execute_result"
    }
   ],
   "source": [
    "np.random.randint(1,40) ##random is a function"
   ]
  },
  {
   "cell_type": "code",
   "execution_count": 6,
   "id": "ecaa8b65",
   "metadata": {},
   "outputs": [],
   "source": [
    "z=np.random.randint(50,size=10) ##the size"
   ]
  },
  {
   "cell_type": "markdown",
   "id": "344337d8",
   "metadata": {},
   "source": [
    "z"
   ]
  },
  {
   "cell_type": "code",
   "execution_count": 8,
   "id": "06d8b480",
   "metadata": {},
   "outputs": [],
   "source": [
    "##generate random number between 20 to 42\n",
    "y=np.random.randint(20,42)"
   ]
  },
  {
   "cell_type": "code",
   "execution_count": 12,
   "id": "723749b6",
   "metadata": {},
   "outputs": [
    {
     "data": {
      "text/plain": [
       "33"
      ]
     },
     "execution_count": 12,
     "metadata": {},
     "output_type": "execute_result"
    }
   ],
   "source": [
    "y"
   ]
  },
  {
   "cell_type": "code",
   "execution_count": 13,
   "id": "f7adc5ca",
   "metadata": {},
   "outputs": [
    {
     "data": {
      "text/plain": [
       "array([22, 25, 36, 29, 24])"
      ]
     },
     "execution_count": 13,
     "metadata": {},
     "output_type": "execute_result"
    }
   ],
   "source": [
    "np.random.randint(20,42,size=5)"
   ]
  },
  {
   "cell_type": "markdown",
   "id": "14f575b1",
   "metadata": {},
   "source": [
    "## arange"
   ]
  },
  {
   "cell_type": "code",
   "execution_count": 15,
   "id": "ea83335d",
   "metadata": {},
   "outputs": [
    {
     "data": {
      "text/plain": [
       "array([ 29,  30,  31,  32,  33,  34,  35,  36,  37,  38,  39,  40,  41,\n",
       "        42,  43,  44,  45,  46,  47,  48,  49,  50,  51,  52,  53,  54,\n",
       "        55,  56,  57,  58,  59,  60,  61,  62,  63,  64,  65,  66,  67,\n",
       "        68,  69,  70,  71,  72,  73,  74,  75,  76,  77,  78,  79,  80,\n",
       "        81,  82,  83,  84,  85,  86,  87,  88,  89,  90,  91,  92,  93,\n",
       "        94,  95,  96,  97,  98,  99, 100, 101, 102, 103, 104, 105, 106,\n",
       "       107, 108, 109, 110, 111, 112, 113, 114, 115, 116, 117, 118, 119,\n",
       "       120, 121, 122, 123, 124, 125, 126, 127, 128, 129, 130, 131, 132,\n",
       "       133, 134, 135, 136, 137, 138, 139, 140, 141, 142, 143, 144, 145,\n",
       "       146, 147, 148, 149, 150, 151, 152, 153, 154, 155, 156, 157, 158,\n",
       "       159, 160, 161, 162, 163, 164, 165, 166, 167, 168, 169, 170, 171,\n",
       "       172, 173, 174, 175, 176, 177, 178, 179, 180, 181, 182, 183, 184,\n",
       "       185, 186, 187, 188, 189, 190, 191, 192, 193, 194, 195, 196, 197,\n",
       "       198, 199, 200, 201, 202, 203, 204, 205, 206, 207, 208, 209, 210,\n",
       "       211, 212, 213, 214, 215, 216, 217, 218, 219, 220, 221, 222, 223,\n",
       "       224, 225, 226, 227, 228, 229, 230, 231, 232, 233, 234, 235, 236,\n",
       "       237, 238, 239, 240, 241, 242, 243, 244, 245, 246, 247, 248, 249,\n",
       "       250, 251, 252, 253, 254, 255, 256, 257, 258, 259, 260, 261, 262,\n",
       "       263, 264, 265, 266, 267, 268, 269, 270, 271, 272, 273, 274, 275,\n",
       "       276, 277, 278, 279, 280, 281, 282, 283, 284, 285, 286, 287, 288,\n",
       "       289, 290, 291, 292, 293, 294, 295, 296, 297, 298, 299])"
      ]
     },
     "execution_count": 15,
     "metadata": {},
     "output_type": "execute_result"
    }
   ],
   "source": [
    "## creates a numbe in s aspecific range\n",
    "np.arange(29,300)"
   ]
  },
  {
   "cell_type": "markdown",
   "id": "c0005ccb",
   "metadata": {},
   "source": [
    "## Reshaping used to give a new shape to an array without chaning its content"
   ]
  },
  {
   "cell_type": "code",
   "execution_count": 22,
   "id": "2ede09c6",
   "metadata": {},
   "outputs": [],
   "source": [
    "## or transposing (T) or two by five\n",
    "x= np.array([10,11,12,13,14,15,16,17,18,19])\n"
   ]
  },
  {
   "cell_type": "code",
   "execution_count": 24,
   "id": "722b4fa3",
   "metadata": {},
   "outputs": [
    {
     "data": {
      "text/plain": [
       "10"
      ]
     },
     "execution_count": 24,
     "metadata": {},
     "output_type": "execute_result"
    }
   ],
   "source": [
    "x.size\n"
   ]
  },
  {
   "cell_type": "code",
   "execution_count": 25,
   "id": "d60e1eab",
   "metadata": {},
   "outputs": [
    {
     "data": {
      "text/plain": [
       "array([[10, 11, 12, 13, 14],\n",
       "       [15, 16, 17, 18, 19]])"
      ]
     },
     "execution_count": 25,
     "metadata": {},
     "output_type": "execute_result"
    }
   ],
   "source": [
    "x.reshape((2,5))"
   ]
  },
  {
   "cell_type": "markdown",
   "id": "bb6cbd68",
   "metadata": {},
   "source": [
    "## where"
   ]
  },
  {
   "cell_type": "code",
   "execution_count": 26,
   "id": "0f1da388",
   "metadata": {},
   "outputs": [],
   "source": [
    "##returns and index that gives you a match\n",
    "dataset= np.array([10,20,30,40,50,30,20])"
   ]
  },
  {
   "cell_type": "code",
   "execution_count": 27,
   "id": "c67bc557",
   "metadata": {},
   "outputs": [
    {
     "data": {
      "text/plain": [
       "array([10, 20, 30, 40, 50, 30, 20])"
      ]
     },
     "execution_count": 27,
     "metadata": {},
     "output_type": "execute_result"
    }
   ],
   "source": [
    "dataset"
   ]
  },
  {
   "cell_type": "code",
   "execution_count": 28,
   "id": "c0b4d5da",
   "metadata": {},
   "outputs": [
    {
     "data": {
      "text/plain": [
       "(array([2, 5]),)"
      ]
     },
     "execution_count": 28,
     "metadata": {},
     "output_type": "execute_result"
    }
   ],
   "source": [
    "np.where(dataset==30) ## the index of the array"
   ]
  },
  {
   "cell_type": "code",
   "execution_count": 29,
   "id": "b6a1118d",
   "metadata": {},
   "outputs": [],
   "source": [
    "dataset=np.where(dataset>23)"
   ]
  },
  {
   "cell_type": "markdown",
   "id": "83d1b4b5",
   "metadata": {},
   "source": [
    "##dataset greater than smaller than"
   ]
  },
  {
   "cell_type": "code",
   "execution_count": 31,
   "id": "0f2f8ad9",
   "metadata": {},
   "outputs": [],
   "source": [
    "## using sum"
   ]
  },
  {
   "cell_type": "code",
   "execution_count": 33,
   "id": "5b900ca4",
   "metadata": {},
   "outputs": [
    {
     "data": {
      "text/plain": [
       "array([[1, 2, 3, 4],\n",
       "       [6, 7, 8, 9]])"
      ]
     },
     "execution_count": 33,
     "metadata": {},
     "output_type": "execute_result"
    }
   ],
   "source": [
    "a = np.array ([[1,2,3,4],[6,7,8,9]])\n",
    "a"
   ]
  },
  {
   "cell_type": "code",
   "execution_count": 34,
   "id": "fe865529",
   "metadata": {},
   "outputs": [
    {
     "data": {
      "text/plain": [
       "40"
      ]
     },
     "execution_count": 34,
     "metadata": {},
     "output_type": "execute_result"
    }
   ],
   "source": [
    "a.sum()"
   ]
  },
  {
   "cell_type": "code",
   "execution_count": 36,
   "id": "8f3484f1",
   "metadata": {},
   "outputs": [
    {
     "data": {
      "text/plain": [
       "5.0"
      ]
     },
     "execution_count": 36,
     "metadata": {},
     "output_type": "execute_result"
    }
   ],
   "source": [
    "a.mean()"
   ]
  },
  {
   "cell_type": "code",
   "execution_count": 37,
   "id": "eba1d33b",
   "metadata": {},
   "outputs": [
    {
     "data": {
      "text/plain": [
       "2.7386127875258306"
      ]
     },
     "execution_count": 37,
     "metadata": {},
     "output_type": "execute_result"
    }
   ],
   "source": [
    "a.std()"
   ]
  },
  {
   "cell_type": "code",
   "execution_count": 38,
   "id": "aa42b913",
   "metadata": {},
   "outputs": [
    {
     "data": {
      "text/plain": [
       "7.5"
      ]
     },
     "execution_count": 38,
     "metadata": {},
     "output_type": "execute_result"
    }
   ],
   "source": [
    "a.var()"
   ]
  },
  {
   "cell_type": "code",
   "execution_count": 40,
   "id": "697800e4",
   "metadata": {},
   "outputs": [
    {
     "data": {
      "text/plain": [
       "array([ 7,  9, 11, 13])"
      ]
     },
     "execution_count": 40,
     "metadata": {},
     "output_type": "execute_result"
    }
   ],
   "source": [
    "##axis=0 rows\n",
    "a.sum(axis=0)"
   ]
  },
  {
   "cell_type": "code",
   "execution_count": 41,
   "id": "1e29916e",
   "metadata": {},
   "outputs": [
    {
     "data": {
      "text/plain": [
       "array([10, 30])"
      ]
     },
     "execution_count": 41,
     "metadata": {},
     "output_type": "execute_result"
    }
   ],
   "source": [
    "##axis=1 colums\n",
    "a.sum(axis=1)"
   ]
  },
  {
   "cell_type": "markdown",
   "id": "aac18168",
   "metadata": {},
   "source": [
    "## Merge or concatinate data eg data in feb and jan"
   ]
  },
  {
   "cell_type": "code",
   "execution_count": 43,
   "id": "465760dc",
   "metadata": {},
   "outputs": [
    {
     "data": {
      "text/plain": [
       "array([[1, 2, 3, 4],\n",
       "       [6, 7, 8, 9],\n",
       "       [2, 3, 4, 5]])"
      ]
     },
     "execution_count": 43,
     "metadata": {},
     "output_type": "execute_result"
    }
   ],
   "source": [
    "np.concatenate((a,dataset),axis=0) ## axis 0 is adding along the rows ...below"
   ]
  },
  {
   "cell_type": "code",
   "execution_count": null,
   "id": "0fe829fd",
   "metadata": {},
   "outputs": [],
   "source": []
  }
 ],
 "metadata": {
  "kernelspec": {
   "display_name": "Python 3 (ipykernel)",
   "language": "python",
   "name": "python3"
  },
  "language_info": {
   "codemirror_mode": {
    "name": "ipython",
    "version": 3
   },
   "file_extension": ".py",
   "mimetype": "text/x-python",
   "name": "python",
   "nbconvert_exporter": "python",
   "pygments_lexer": "ipython3",
   "version": "3.9.2"
  }
 },
 "nbformat": 4,
 "nbformat_minor": 5
}
